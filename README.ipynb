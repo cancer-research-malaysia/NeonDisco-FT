{
 "cells": [
  {
   "cell_type": "markdown",
   "metadata": {},
   "source": [
    "### **Fusion Transcript Data Wrangling**"
   ]
  },
  {
   "cell_type": "markdown",
   "metadata": {},
   "source": [
    "#### Concatenating and Filtering Raw Fusion Transcript Output from Arriba and FusionCatcher"
   ]
  },
  {
   "cell_type": "markdown",
   "metadata": {},
   "source": [
    "This notebook details the processes (semi-automated) done to further process the raw output files from Arriba and FusionCatcher fusion transcript callers. \n",
    "\n",
    "1. Run the `wrangle-ft-tsv.py` script to generate fusion transcript list from Arriba and FusionCatcher output files. The script takes a mandatory input of path to the directory where sample-specific fusion call output files from Arriba or FusionCatcher are stored as the first argument, and the specific string that is used to identify tool name (`arr` for Arriba fusion transcript call output file prefix, for instance). \n",
    "\n",
    "For example:\n",
    "> ``` wrangle-ft-tsv.py data/FTmyBRCAs_raw/Arriba arr ```"
   ]
  },
  {
   "cell_type": "code",
   "execution_count": 1,
   "metadata": {},
   "outputs": [],
   "source": [
    "import polars as pl"
   ]
  },
  {
   "cell_type": "code",
   "execution_count": 9,
   "metadata": {},
   "outputs": [],
   "source": [
    "# load up Arriba and FusionCatcher merged dataframes lazily\n",
    "arriba_mdf = pl.scan_parquet('data/Arriba-fusiontranscript-raw-list.parquet')\n",
    "fc_mdf = pl.scan_parquet('data/FusionCatcher-fusiontranscript-raw-list.parquet')"
   ]
  },
  {
   "cell_type": "code",
   "execution_count": 7,
   "metadata": {},
   "outputs": [
    {
     "data": {
      "text/html": [
       "<div><style>\n",
       ".dataframe > thead > tr,\n",
       ".dataframe > tbody > tr {\n",
       "  text-align: right;\n",
       "  white-space: pre-wrap;\n",
       "}\n",
       "</style>\n",
       "<small>shape: (49_465, 11)</small><table border=\"1\" class=\"dataframe\"><thead><tr><th>fusionTranscriptID</th><th>fusionGeneID</th><th>breakpointPair</th><th>strand1</th><th>strand2</th><th>site1</th><th>site2</th><th>type</th><th>confidence</th><th>sampleID</th><th>toolID</th></tr><tr><td>cat</td><td>cat</td><td>cat</td><td>cat</td><td>cat</td><td>cat</td><td>cat</td><td>cat</td><td>cat</td><td>i64</td><td>cat</td></tr></thead><tbody><tr><td>&quot;TRMT11::SMG6__6:125986622-17:2…</td><td>&quot;TRMT11::SMG6&quot;</td><td>&quot;6:125986622-17:2244719&quot;</td><td>&quot;+&quot;</td><td>&quot;-&quot;</td><td>&quot;CDS/splice-site&quot;</td><td>&quot;CDS/splice-site&quot;</td><td>&quot;translocation&quot;</td><td>&quot;high&quot;</td><td>1</td><td>&quot;Arriba&quot;</td></tr><tr><td>&quot;STAG3::MEF2C-AS1__7:100189570-…</td><td>&quot;STAG3::MEF2C-AS1&quot;</td><td>&quot;7:100189570-5:88919251&quot;</td><td>&quot;+&quot;</td><td>&quot;-&quot;</td><td>&quot;CDS&quot;</td><td>&quot;intron&quot;</td><td>&quot;translocation/5&#x27;-5&#x27;&quot;</td><td>&quot;low&quot;</td><td>1</td><td>&quot;Arriba&quot;</td></tr><tr><td>&quot;MAPK13::C1QL1__6:36132629-17:4…</td><td>&quot;MAPK13::C1QL1&quot;</td><td>&quot;6:36132629-17:44965446&quot;</td><td>&quot;+&quot;</td><td>&quot;+&quot;</td><td>&quot;CDS&quot;</td><td>&quot;intron&quot;</td><td>&quot;translocation/5&#x27;-5&#x27;&quot;</td><td>&quot;low&quot;</td><td>1</td><td>&quot;Arriba&quot;</td></tr><tr><td>&quot;STX16::NPEPL1__20:58673711-20:…</td><td>&quot;STX16::NPEPL1&quot;</td><td>&quot;20:58673711-20:58691724&quot;</td><td>&quot;+&quot;</td><td>&quot;+&quot;</td><td>&quot;CDS/splice-site&quot;</td><td>&quot;5&#x27;UTR/splice-site&quot;</td><td>&quot;deletion/read-through&quot;</td><td>&quot;low&quot;</td><td>1</td><td>&quot;Arriba&quot;</td></tr><tr><td>&quot;MAPK13::NMT1__6:36132629-17:44…</td><td>&quot;MAPK13::NMT1&quot;</td><td>&quot;6:36132629-17:44965446&quot;</td><td>&quot;+&quot;</td><td>&quot;+&quot;</td><td>&quot;CDS&quot;</td><td>&quot;intron&quot;</td><td>&quot;translocation&quot;</td><td>&quot;low&quot;</td><td>1</td><td>&quot;Arriba&quot;</td></tr><tr><td>&hellip;</td><td>&hellip;</td><td>&hellip;</td><td>&hellip;</td><td>&hellip;</td><td>&hellip;</td><td>&hellip;</td><td>&hellip;</td><td>&hellip;</td><td>&hellip;</td><td>&hellip;</td></tr><tr><td>&quot;DENND5B::AC087311.1(22711),SYT…</td><td>&quot;DENND5B::AC087311.1(22711),SYT…</td><td>&quot;12:31479608-12:33016465&quot;</td><td>&quot;-&quot;</td><td>&quot;+&quot;</td><td>&quot;CDS&quot;</td><td>&quot;intergenic&quot;</td><td>&quot;inversion&quot;</td><td>&quot;low&quot;</td><td>992</td><td>&quot;Arriba&quot;</td></tr><tr><td>&quot;LINC01145::AC245100.2__1:14520…</td><td>&quot;LINC01145::AC245100.2&quot;</td><td>&quot;1:145201150-1:148436753&quot;</td><td>&quot;-&quot;</td><td>&quot;-&quot;</td><td>&quot;exon&quot;</td><td>&quot;exon&quot;</td><td>&quot;duplication/5&#x27;-5&#x27;&quot;</td><td>&quot;low&quot;</td><td>992</td><td>&quot;Arriba&quot;</td></tr><tr><td>&quot;NET1::RNF169__10:5412820-11:74…</td><td>&quot;NET1::RNF169&quot;</td><td>&quot;10:5412820-11:74834676&quot;</td><td>&quot;+&quot;</td><td>&quot;+&quot;</td><td>&quot;CDS/splice-site&quot;</td><td>&quot;CDS/splice-site&quot;</td><td>&quot;translocation&quot;</td><td>&quot;low&quot;</td><td>992</td><td>&quot;Arriba&quot;</td></tr><tr><td>&quot;MAN2C1::SIN3A__15:75366522-15:…</td><td>&quot;MAN2C1::SIN3A&quot;</td><td>&quot;15:75366522-15:75375872&quot;</td><td>&quot;-&quot;</td><td>&quot;-&quot;</td><td>&quot;CDS/splice-site&quot;</td><td>&quot;CDS/splice-site&quot;</td><td>&quot;duplication&quot;</td><td>&quot;low&quot;</td><td>992</td><td>&quot;Arriba&quot;</td></tr><tr><td>&quot;LINC02224::MRPS30-DT__5:446584…</td><td>&quot;LINC02224::MRPS30-DT&quot;</td><td>&quot;5:44658462-5:44777328&quot;</td><td>&quot;-&quot;</td><td>&quot;-&quot;</td><td>&quot;exon/splice-site&quot;</td><td>&quot;exon/splice-site&quot;</td><td>&quot;duplication&quot;</td><td>&quot;low&quot;</td><td>992</td><td>&quot;Arriba&quot;</td></tr></tbody></table></div>"
      ],
      "text/plain": [
       "shape: (49_465, 11)\n",
       "┌────────────┬────────────┬────────────┬─────────┬───┬────────────┬────────────┬──────────┬────────┐\n",
       "│ fusionTran ┆ fusionGene ┆ breakpoint ┆ strand1 ┆ … ┆ type       ┆ confidence ┆ sampleID ┆ toolID │\n",
       "│ scriptID   ┆ ID         ┆ Pair       ┆ ---     ┆   ┆ ---        ┆ ---        ┆ ---      ┆ ---    │\n",
       "│ ---        ┆ ---        ┆ ---        ┆ cat     ┆   ┆ cat        ┆ cat        ┆ i64      ┆ cat    │\n",
       "│ cat        ┆ cat        ┆ cat        ┆         ┆   ┆            ┆            ┆          ┆        │\n",
       "╞════════════╪════════════╪════════════╪═════════╪═══╪════════════╪════════════╪══════════╪════════╡\n",
       "│ TRMT11::SM ┆ TRMT11::SM ┆ 6:12598662 ┆ +       ┆ … ┆ translocat ┆ high       ┆ 1        ┆ Arriba │\n",
       "│ G6__6:1259 ┆ G6         ┆ 2-17:22447 ┆         ┆   ┆ ion        ┆            ┆          ┆        │\n",
       "│ 86622-17:2 ┆            ┆ 19         ┆         ┆   ┆            ┆            ┆          ┆        │\n",
       "│ …          ┆            ┆            ┆         ┆   ┆            ┆            ┆          ┆        │\n",
       "│ STAG3::MEF ┆ STAG3::MEF ┆ 7:10018957 ┆ +       ┆ … ┆ translocat ┆ low        ┆ 1        ┆ Arriba │\n",
       "│ 2C-AS1__7: ┆ 2C-AS1     ┆ 0-5:889192 ┆         ┆   ┆ ion/5'-5'  ┆            ┆          ┆        │\n",
       "│ 100189570- ┆            ┆ 51         ┆         ┆   ┆            ┆            ┆          ┆        │\n",
       "│ …          ┆            ┆            ┆         ┆   ┆            ┆            ┆          ┆        │\n",
       "│ MAPK13::C1 ┆ MAPK13::C1 ┆ 6:36132629 ┆ +       ┆ … ┆ translocat ┆ low        ┆ 1        ┆ Arriba │\n",
       "│ QL1__6:361 ┆ QL1        ┆ -17:449654 ┆         ┆   ┆ ion/5'-5'  ┆            ┆          ┆        │\n",
       "│ 32629-17:4 ┆            ┆ 46         ┆         ┆   ┆            ┆            ┆          ┆        │\n",
       "│ …          ┆            ┆            ┆         ┆   ┆            ┆            ┆          ┆        │\n",
       "│ STX16::NPE ┆ STX16::NPE ┆ 20:5867371 ┆ +       ┆ … ┆ deletion/r ┆ low        ┆ 1        ┆ Arriba │\n",
       "│ PL1__20:58 ┆ PL1        ┆ 1-20:58691 ┆         ┆   ┆ ead-throug ┆            ┆          ┆        │\n",
       "│ 673711-20: ┆            ┆ 724        ┆         ┆   ┆ h          ┆            ┆          ┆        │\n",
       "│ …          ┆            ┆            ┆         ┆   ┆            ┆            ┆          ┆        │\n",
       "│ MAPK13::NM ┆ MAPK13::NM ┆ 6:36132629 ┆ +       ┆ … ┆ translocat ┆ low        ┆ 1        ┆ Arriba │\n",
       "│ T1__6:3613 ┆ T1         ┆ -17:449654 ┆         ┆   ┆ ion        ┆            ┆          ┆        │\n",
       "│ 2629-17:44 ┆            ┆ 46         ┆         ┆   ┆            ┆            ┆          ┆        │\n",
       "│ …          ┆            ┆            ┆         ┆   ┆            ┆            ┆          ┆        │\n",
       "│ …          ┆ …          ┆ …          ┆ …       ┆ … ┆ …          ┆ …          ┆ …        ┆ …      │\n",
       "│ DENND5B::A ┆ DENND5B::A ┆ 12:3147960 ┆ -       ┆ … ┆ inversion  ┆ low        ┆ 992      ┆ Arriba │\n",
       "│ C087311.1( ┆ C087311.1( ┆ 8-12:33016 ┆         ┆   ┆            ┆            ┆          ┆        │\n",
       "│ 22711),SYT ┆ 22711),SYT ┆ 465        ┆         ┆   ┆            ┆            ┆          ┆        │\n",
       "│ …          ┆ …          ┆            ┆         ┆   ┆            ┆            ┆          ┆        │\n",
       "│ LINC01145: ┆ LINC01145: ┆ 1:14520115 ┆ -       ┆ … ┆ duplicatio ┆ low        ┆ 992      ┆ Arriba │\n",
       "│ :AC245100. ┆ :AC245100. ┆ 0-1:148436 ┆         ┆   ┆ n/5'-5'    ┆            ┆          ┆        │\n",
       "│ 2__1:14520 ┆ 2          ┆ 753        ┆         ┆   ┆            ┆            ┆          ┆        │\n",
       "│ …          ┆            ┆            ┆         ┆   ┆            ┆            ┆          ┆        │\n",
       "│ NET1::RNF1 ┆ NET1::RNF1 ┆ 10:5412820 ┆ +       ┆ … ┆ translocat ┆ low        ┆ 992      ┆ Arriba │\n",
       "│ 69__10:541 ┆ 69         ┆ -11:748346 ┆         ┆   ┆ ion        ┆            ┆          ┆        │\n",
       "│ 2820-11:74 ┆            ┆ 76         ┆         ┆   ┆            ┆            ┆          ┆        │\n",
       "│ …          ┆            ┆            ┆         ┆   ┆            ┆            ┆          ┆        │\n",
       "│ MAN2C1::SI ┆ MAN2C1::SI ┆ 15:7536652 ┆ -       ┆ … ┆ duplicatio ┆ low        ┆ 992      ┆ Arriba │\n",
       "│ N3A__15:75 ┆ N3A        ┆ 2-15:75375 ┆         ┆   ┆ n          ┆            ┆          ┆        │\n",
       "│ 366522-15: ┆            ┆ 872        ┆         ┆   ┆            ┆            ┆          ┆        │\n",
       "│ …          ┆            ┆            ┆         ┆   ┆            ┆            ┆          ┆        │\n",
       "│ LINC02224: ┆ LINC02224: ┆ 5:44658462 ┆ -       ┆ … ┆ duplicatio ┆ low        ┆ 992      ┆ Arriba │\n",
       "│ :MRPS30-DT ┆ :MRPS30-DT ┆ -5:4477732 ┆         ┆   ┆ n          ┆            ┆          ┆        │\n",
       "│ __5:446584 ┆            ┆ 8          ┆         ┆   ┆            ┆            ┆          ┆        │\n",
       "│ …          ┆            ┆            ┆         ┆   ┆            ┆            ┆          ┆        │\n",
       "└────────────┴────────────┴────────────┴─────────┴───┴────────────┴────────────┴──────────┴────────┘"
      ]
     },
     "execution_count": 7,
     "metadata": {},
     "output_type": "execute_result"
    }
   ],
   "source": [
    "arriba_mdf.collect()"
   ]
  },
  {
   "cell_type": "code",
   "execution_count": 11,
   "metadata": {},
   "outputs": [
    {
     "name": "stdout",
     "output_type": "stream",
     "text": [
      "shape: (31_364, 11)\n",
      "┌─────────────┬─────────────┬────────────┬─────────┬───┬──────┬────────────┬──────────┬────────────┐\n",
      "│ fusionTrans ┆ fusionGeneI ┆ breakpoint ┆ strand1 ┆ … ┆ type ┆ confidence ┆ sampleID ┆ toolID     │\n",
      "│ criptID     ┆ D           ┆ Pair       ┆ ---     ┆   ┆ ---  ┆ ---        ┆ ---      ┆ ---        │\n",
      "│ ---         ┆ ---         ┆ ---        ┆ cat     ┆   ┆ cat  ┆ cat        ┆ i64      ┆ cat        │\n",
      "│ cat         ┆ cat         ┆ cat        ┆         ┆   ┆      ┆            ┆          ┆            │\n",
      "╞═════════════╪═════════════╪════════════╪═════════╪═══╪══════╪════════════╪══════════╪════════════╡\n",
      "│ SIDT2::TAGL ┆ SIDT2::TAGL ┆ 11:1171959 ┆ +       ┆ … ┆ .    ┆ .          ┆ 2        ┆ FusionCatc │\n",
      "│ N__11:11719 ┆ N           ┆ 15-11:1172 ┆         ┆   ┆      ┆            ┆          ┆ her        │\n",
      "│ 5915-11:…   ┆             ┆ 03002      ┆         ┆   ┆      ┆            ┆          ┆            │\n",
      "│ AZGP1::GJC3 ┆ AZGP1::GJC3 ┆ 7:99971746 ┆ -       ┆ … ┆ .    ┆ .          ┆ 2        ┆ FusionCatc │\n",
      "│ __7:9997174 ┆             ┆ -7:9992360 ┆         ┆   ┆      ┆            ┆          ┆ her        │\n",
      "│ 6-7:9992…   ┆             ┆ 3          ┆         ┆   ┆      ┆            ┆          ┆            │\n",
      "│ NPEPPS::TBC ┆ NPEPPS::TBC ┆ 17:4759254 ┆ +       ┆ … ┆ .    ┆ .          ┆ 2        ┆ FusionCatc │\n",
      "│ 1D3__17:475 ┆ 1D3         ┆ 5-17:38191 ┆         ┆   ┆      ┆            ┆          ┆ her        │\n",
      "│ 92545-17…   ┆             ┆ 030        ┆         ┆   ┆      ┆            ┆          ┆            │\n",
      "│ CYP4F11::CY ┆ CYP4F11::CY ┆ 19:1591476 ┆ -       ┆ … ┆ .    ┆ .          ┆ 2        ┆ FusionCatc │\n",
      "│ P4F23P__19: ┆ P4F23P      ┆ 2-19:15583 ┆         ┆   ┆      ┆            ┆          ┆ her        │\n",
      "│ 15914762…   ┆             ┆ 580        ┆         ┆   ┆      ┆            ┆          ┆            │\n",
      "│ SLC49A3::AT ┆ SLC49A3::AT ┆ 4:686532-4 ┆ -       ┆ … ┆ .    ┆ .          ┆ 3        ┆ FusionCatc │\n",
      "│ P5ME__4:686 ┆ P5ME        ┆ :673401    ┆         ┆   ┆      ┆            ┆          ┆ her        │\n",
      "│ 532-4:67…   ┆             ┆            ┆         ┆   ┆      ┆            ┆          ┆            │\n",
      "│ …           ┆ …           ┆ …          ┆ …       ┆ … ┆ …    ┆ …          ┆ …        ┆ …          │\n",
      "│ CTBS::GNG5_ ┆ CTBS::GNG5  ┆ 1:84563257 ┆ -       ┆ … ┆ .    ┆ .          ┆ 991      ┆ FusionCatc │\n",
      "│ _1:84563257 ┆             ┆ -1:8450197 ┆         ┆   ┆      ┆            ┆          ┆ her        │\n",
      "│ -1:84501…   ┆             ┆ 0          ┆         ┆   ┆      ┆            ┆          ┆            │\n",
      "│ MRPS30-DT:: ┆ MRPS30-DT:: ┆ 5:44808642 ┆ -       ┆ … ┆ .    ┆ .          ┆ 991      ┆ FusionCatc │\n",
      "│ LINC02224__ ┆ LINC02224   ┆ -5:4465855 ┆         ┆   ┆      ┆            ┆          ┆ her        │\n",
      "│ 5:448086…   ┆             ┆ 7          ┆         ┆   ┆      ┆            ┆          ┆            │\n",
      "│ NBEA::CR382 ┆ NBEA::CR382 ┆ 13:3507085 ┆ +       ┆ … ┆ .    ┆ .          ┆ 991      ┆ FusionCatc │\n",
      "│ 287.1__13:3 ┆ 287.1       ┆ 2-21:10127 ┆         ┆   ┆      ┆            ┆          ┆ her        │\n",
      "│ 5070852-…   ┆             ┆ 330        ┆         ┆   ┆      ┆            ┆          ┆            │\n",
      "│ HACL1::COLQ ┆ HACL1::COLQ ┆ 3:15563358 ┆ -       ┆ … ┆ .    ┆ .          ┆ 991      ┆ FusionCatc │\n",
      "│ __3:1556335 ┆             ┆ -3:1548963 ┆         ┆   ┆      ┆            ┆          ┆ her        │\n",
      "│ 8-3:1548…   ┆             ┆ 7          ┆         ┆   ┆      ┆            ┆          ┆            │\n",
      "│ PRCP::TASOR ┆ PRCP::TASOR ┆ 11:8290023 ┆ -       ┆ … ┆ .    ┆ .          ┆ 992      ┆ FusionCatc │\n",
      "│ 2__11:82900 ┆ 2           ┆ 5-10:57396 ┆         ┆   ┆      ┆            ┆          ┆ her        │\n",
      "│ 235-10:5…   ┆             ┆ 18         ┆         ┆   ┆      ┆            ┆          ┆            │\n",
      "└─────────────┴─────────────┴────────────┴─────────┴───┴──────┴────────────┴──────────┴────────────┘\n"
     ]
    }
   ],
   "source": [
    "print(fc_mdf.collect())"
   ]
  },
  {
   "cell_type": "markdown",
   "metadata": {},
   "source": [
    "Now, we can merge the two dataframes into one masterFrame. Use Polars' `concat` (vertical concatenation is the default, where two dataframes sharing the exact same columns would be joined together, adding all rows of dataframe 1 and 2 vertically)."
   ]
  },
  {
   "cell_type": "code",
   "execution_count": 12,
   "metadata": {},
   "outputs": [
    {
     "name": "stderr",
     "output_type": "stream",
     "text": [
      "sys:1: CategoricalRemappingWarning: Local categoricals have different encodings, expensive re-encoding is done to perform this merge operation. Consider using a StringCache or an Enum type if the categories are known in advance\n"
     ]
    },
    {
     "data": {
      "text/html": [
       "<div><style>\n",
       ".dataframe > thead > tr,\n",
       ".dataframe > tbody > tr {\n",
       "  text-align: right;\n",
       "  white-space: pre-wrap;\n",
       "}\n",
       "</style>\n",
       "<small>shape: (80_829, 11)</small><table border=\"1\" class=\"dataframe\"><thead><tr><th>fusionTranscriptID</th><th>fusionGeneID</th><th>breakpointPair</th><th>strand1</th><th>strand2</th><th>site1</th><th>site2</th><th>type</th><th>confidence</th><th>sampleID</th><th>toolID</th></tr><tr><td>cat</td><td>cat</td><td>cat</td><td>cat</td><td>cat</td><td>cat</td><td>cat</td><td>cat</td><td>cat</td><td>i64</td><td>cat</td></tr></thead><tbody><tr><td>&quot;TRMT11::SMG6__6:125986622-17:2…</td><td>&quot;TRMT11::SMG6&quot;</td><td>&quot;6:125986622-17:2244719&quot;</td><td>&quot;+&quot;</td><td>&quot;-&quot;</td><td>&quot;CDS/splice-site&quot;</td><td>&quot;CDS/splice-site&quot;</td><td>&quot;translocation&quot;</td><td>&quot;high&quot;</td><td>1</td><td>&quot;Arriba&quot;</td></tr><tr><td>&quot;STAG3::MEF2C-AS1__7:100189570-…</td><td>&quot;STAG3::MEF2C-AS1&quot;</td><td>&quot;7:100189570-5:88919251&quot;</td><td>&quot;+&quot;</td><td>&quot;-&quot;</td><td>&quot;CDS&quot;</td><td>&quot;intron&quot;</td><td>&quot;translocation/5&#x27;-5&#x27;&quot;</td><td>&quot;low&quot;</td><td>1</td><td>&quot;Arriba&quot;</td></tr><tr><td>&quot;MAPK13::C1QL1__6:36132629-17:4…</td><td>&quot;MAPK13::C1QL1&quot;</td><td>&quot;6:36132629-17:44965446&quot;</td><td>&quot;+&quot;</td><td>&quot;+&quot;</td><td>&quot;CDS&quot;</td><td>&quot;intron&quot;</td><td>&quot;translocation/5&#x27;-5&#x27;&quot;</td><td>&quot;low&quot;</td><td>1</td><td>&quot;Arriba&quot;</td></tr><tr><td>&quot;STX16::NPEPL1__20:58673711-20:…</td><td>&quot;STX16::NPEPL1&quot;</td><td>&quot;20:58673711-20:58691724&quot;</td><td>&quot;+&quot;</td><td>&quot;+&quot;</td><td>&quot;CDS/splice-site&quot;</td><td>&quot;5&#x27;UTR/splice-site&quot;</td><td>&quot;deletion/read-through&quot;</td><td>&quot;low&quot;</td><td>1</td><td>&quot;Arriba&quot;</td></tr><tr><td>&quot;MAPK13::NMT1__6:36132629-17:44…</td><td>&quot;MAPK13::NMT1&quot;</td><td>&quot;6:36132629-17:44965446&quot;</td><td>&quot;+&quot;</td><td>&quot;+&quot;</td><td>&quot;CDS&quot;</td><td>&quot;intron&quot;</td><td>&quot;translocation&quot;</td><td>&quot;low&quot;</td><td>1</td><td>&quot;Arriba&quot;</td></tr><tr><td>&hellip;</td><td>&hellip;</td><td>&hellip;</td><td>&hellip;</td><td>&hellip;</td><td>&hellip;</td><td>&hellip;</td><td>&hellip;</td><td>&hellip;</td><td>&hellip;</td><td>&hellip;</td></tr><tr><td>&quot;CTBS::GNG5__1:84563257-1:84501…</td><td>&quot;CTBS::GNG5&quot;</td><td>&quot;1:84563257-1:84501970&quot;</td><td>&quot;-&quot;</td><td>&quot;-&quot;</td><td>&quot;in-frame&quot;</td><td>&quot;.&quot;</td><td>&quot;.&quot;</td><td>&quot;.&quot;</td><td>991</td><td>&quot;FusionCatcher&quot;</td></tr><tr><td>&quot;MRPS30-DT::LINC02224__5:448086…</td><td>&quot;MRPS30-DT::LINC02224&quot;</td><td>&quot;5:44808642-5:44658557&quot;</td><td>&quot;-&quot;</td><td>&quot;-&quot;</td><td>&quot;exonic(no-known-CDS)&quot;</td><td>&quot;exonic(no-known-CDS)&quot;</td><td>&quot;.&quot;</td><td>&quot;.&quot;</td><td>991</td><td>&quot;FusionCatcher&quot;</td></tr><tr><td>&quot;NBEA::CR382287.1__13:35070852-…</td><td>&quot;NBEA::CR382287.1&quot;</td><td>&quot;13:35070852-21:10127330&quot;</td><td>&quot;+&quot;</td><td>&quot;+&quot;</td><td>&quot;CDS(truncated)&quot;</td><td>&quot;exonic(no-known-CDS)&quot;</td><td>&quot;.&quot;</td><td>&quot;.&quot;</td><td>991</td><td>&quot;FusionCatcher&quot;</td></tr><tr><td>&quot;HACL1::COLQ__3:15563358-3:1548…</td><td>&quot;HACL1::COLQ&quot;</td><td>&quot;3:15563358-3:15489637&quot;</td><td>&quot;-&quot;</td><td>&quot;-&quot;</td><td>&quot;out-of-frame&quot;</td><td>&quot;.&quot;</td><td>&quot;.&quot;</td><td>&quot;.&quot;</td><td>991</td><td>&quot;FusionCatcher&quot;</td></tr><tr><td>&quot;PRCP::TASOR2__11:82900235-10:5…</td><td>&quot;PRCP::TASOR2&quot;</td><td>&quot;11:82900235-10:5739618&quot;</td><td>&quot;-&quot;</td><td>&quot;+&quot;</td><td>&quot;out-of-frame&quot;</td><td>&quot;.&quot;</td><td>&quot;.&quot;</td><td>&quot;.&quot;</td><td>992</td><td>&quot;FusionCatcher&quot;</td></tr></tbody></table></div>"
      ],
      "text/plain": [
       "shape: (80_829, 11)\n",
       "┌────────────┬────────────┬───────────┬─────────┬───┬───────────┬───────────┬──────────┬───────────┐\n",
       "│ fusionTran ┆ fusionGene ┆ breakpoin ┆ strand1 ┆ … ┆ type      ┆ confidenc ┆ sampleID ┆ toolID    │\n",
       "│ scriptID   ┆ ID         ┆ tPair     ┆ ---     ┆   ┆ ---       ┆ e         ┆ ---      ┆ ---       │\n",
       "│ ---        ┆ ---        ┆ ---       ┆ cat     ┆   ┆ cat       ┆ ---       ┆ i64      ┆ cat       │\n",
       "│ cat        ┆ cat        ┆ cat       ┆         ┆   ┆           ┆ cat       ┆          ┆           │\n",
       "╞════════════╪════════════╪═══════════╪═════════╪═══╪═══════════╪═══════════╪══════════╪═══════════╡\n",
       "│ TRMT11::SM ┆ TRMT11::SM ┆ 6:1259866 ┆ +       ┆ … ┆ transloca ┆ high      ┆ 1        ┆ Arriba    │\n",
       "│ G6__6:1259 ┆ G6         ┆ 22-17:224 ┆         ┆   ┆ tion      ┆           ┆          ┆           │\n",
       "│ 86622-17:2 ┆            ┆ 4719      ┆         ┆   ┆           ┆           ┆          ┆           │\n",
       "│ …          ┆            ┆           ┆         ┆   ┆           ┆           ┆          ┆           │\n",
       "│ STAG3::MEF ┆ STAG3::MEF ┆ 7:1001895 ┆ +       ┆ … ┆ transloca ┆ low       ┆ 1        ┆ Arriba    │\n",
       "│ 2C-AS1__7: ┆ 2C-AS1     ┆ 70-5:8891 ┆         ┆   ┆ tion/5'-5 ┆           ┆          ┆           │\n",
       "│ 100189570- ┆            ┆ 9251      ┆         ┆   ┆ '         ┆           ┆          ┆           │\n",
       "│ …          ┆            ┆           ┆         ┆   ┆           ┆           ┆          ┆           │\n",
       "│ MAPK13::C1 ┆ MAPK13::C1 ┆ 6:3613262 ┆ +       ┆ … ┆ transloca ┆ low       ┆ 1        ┆ Arriba    │\n",
       "│ QL1__6:361 ┆ QL1        ┆ 9-17:4496 ┆         ┆   ┆ tion/5'-5 ┆           ┆          ┆           │\n",
       "│ 32629-17:4 ┆            ┆ 5446      ┆         ┆   ┆ '         ┆           ┆          ┆           │\n",
       "│ …          ┆            ┆           ┆         ┆   ┆           ┆           ┆          ┆           │\n",
       "│ STX16::NPE ┆ STX16::NPE ┆ 20:586737 ┆ +       ┆ … ┆ deletion/ ┆ low       ┆ 1        ┆ Arriba    │\n",
       "│ PL1__20:58 ┆ PL1        ┆ 11-20:586 ┆         ┆   ┆ read-thro ┆           ┆          ┆           │\n",
       "│ 673711-20: ┆            ┆ 91724     ┆         ┆   ┆ ugh       ┆           ┆          ┆           │\n",
       "│ …          ┆            ┆           ┆         ┆   ┆           ┆           ┆          ┆           │\n",
       "│ MAPK13::NM ┆ MAPK13::NM ┆ 6:3613262 ┆ +       ┆ … ┆ transloca ┆ low       ┆ 1        ┆ Arriba    │\n",
       "│ T1__6:3613 ┆ T1         ┆ 9-17:4496 ┆         ┆   ┆ tion      ┆           ┆          ┆           │\n",
       "│ 2629-17:44 ┆            ┆ 5446      ┆         ┆   ┆           ┆           ┆          ┆           │\n",
       "│ …          ┆            ┆           ┆         ┆   ┆           ┆           ┆          ┆           │\n",
       "│ …          ┆ …          ┆ …         ┆ …       ┆ … ┆ …         ┆ …         ┆ …        ┆ …         │\n",
       "│ CTBS::GNG5 ┆ CTBS::GNG5 ┆ 1:8456325 ┆ -       ┆ … ┆ .         ┆ .         ┆ 991      ┆ FusionCat │\n",
       "│ __1:845632 ┆            ┆ 7-1:84501 ┆         ┆   ┆           ┆           ┆          ┆ cher      │\n",
       "│ 57-1:84501 ┆            ┆ 970       ┆         ┆   ┆           ┆           ┆          ┆           │\n",
       "│ …          ┆            ┆           ┆         ┆   ┆           ┆           ┆          ┆           │\n",
       "│ MRPS30-DT: ┆ MRPS30-DT: ┆ 5:4480864 ┆ -       ┆ … ┆ .         ┆ .         ┆ 991      ┆ FusionCat │\n",
       "│ :LINC02224 ┆ :LINC02224 ┆ 2-5:44658 ┆         ┆   ┆           ┆           ┆          ┆ cher      │\n",
       "│ __5:448086 ┆            ┆ 557       ┆         ┆   ┆           ┆           ┆          ┆           │\n",
       "│ …          ┆            ┆           ┆         ┆   ┆           ┆           ┆          ┆           │\n",
       "│ NBEA::CR38 ┆ NBEA::CR38 ┆ 13:350708 ┆ +       ┆ … ┆ .         ┆ .         ┆ 991      ┆ FusionCat │\n",
       "│ 2287.1__13 ┆ 2287.1     ┆ 52-21:101 ┆         ┆   ┆           ┆           ┆          ┆ cher      │\n",
       "│ :35070852- ┆            ┆ 27330     ┆         ┆   ┆           ┆           ┆          ┆           │\n",
       "│ …          ┆            ┆           ┆         ┆   ┆           ┆           ┆          ┆           │\n",
       "│ HACL1::COL ┆ HACL1::COL ┆ 3:1556335 ┆ -       ┆ … ┆ .         ┆ .         ┆ 991      ┆ FusionCat │\n",
       "│ Q__3:15563 ┆ Q          ┆ 8-3:15489 ┆         ┆   ┆           ┆           ┆          ┆ cher      │\n",
       "│ 358-3:1548 ┆            ┆ 637       ┆         ┆   ┆           ┆           ┆          ┆           │\n",
       "│ …          ┆            ┆           ┆         ┆   ┆           ┆           ┆          ┆           │\n",
       "│ PRCP::TASO ┆ PRCP::TASO ┆ 11:829002 ┆ -       ┆ … ┆ .         ┆ .         ┆ 992      ┆ FusionCat │\n",
       "│ R2__11:829 ┆ R2         ┆ 35-10:573 ┆         ┆   ┆           ┆           ┆          ┆ cher      │\n",
       "│ 00235-10:5 ┆            ┆ 9618      ┆         ┆   ┆           ┆           ┆          ┆           │\n",
       "│ …          ┆            ┆           ┆         ┆   ┆           ┆           ┆          ┆           │\n",
       "└────────────┴────────────┴───────────┴─────────┴───┴───────────┴───────────┴──────────┴───────────┘"
      ]
     },
     "execution_count": 12,
     "metadata": {},
     "output_type": "execute_result"
    }
   ],
   "source": [
    "joined_df = pl.concat(\n",
    "    [\n",
    "        arriba_mdf.collect(),\n",
    "        fc_mdf.collect()\n",
    "    ]\n",
    ")\n",
    "\n",
    "joined_df"
   ]
  },
  {
   "cell_type": "markdown",
   "metadata": {},
   "source": [
    "Now sort `sampleID` in ascending order."
   ]
  },
  {
   "cell_type": "code",
   "execution_count": 13,
   "metadata": {},
   "outputs": [
    {
     "data": {
      "text/html": [
       "<div><style>\n",
       ".dataframe > thead > tr,\n",
       ".dataframe > tbody > tr {\n",
       "  text-align: right;\n",
       "  white-space: pre-wrap;\n",
       "}\n",
       "</style>\n",
       "<small>shape: (80_829, 11)</small><table border=\"1\" class=\"dataframe\"><thead><tr><th>fusionTranscriptID</th><th>fusionGeneID</th><th>breakpointPair</th><th>strand1</th><th>strand2</th><th>site1</th><th>site2</th><th>type</th><th>confidence</th><th>sampleID</th><th>toolID</th></tr><tr><td>cat</td><td>cat</td><td>cat</td><td>cat</td><td>cat</td><td>cat</td><td>cat</td><td>cat</td><td>cat</td><td>i64</td><td>cat</td></tr></thead><tbody><tr><td>&quot;TRMT11::SMG6__6:125986622-17:2…</td><td>&quot;TRMT11::SMG6&quot;</td><td>&quot;6:125986622-17:2244719&quot;</td><td>&quot;+&quot;</td><td>&quot;-&quot;</td><td>&quot;CDS/splice-site&quot;</td><td>&quot;CDS/splice-site&quot;</td><td>&quot;translocation&quot;</td><td>&quot;high&quot;</td><td>1</td><td>&quot;Arriba&quot;</td></tr><tr><td>&quot;STAG3::MEF2C-AS1__7:100189570-…</td><td>&quot;STAG3::MEF2C-AS1&quot;</td><td>&quot;7:100189570-5:88919251&quot;</td><td>&quot;+&quot;</td><td>&quot;-&quot;</td><td>&quot;CDS&quot;</td><td>&quot;intron&quot;</td><td>&quot;translocation/5&#x27;-5&#x27;&quot;</td><td>&quot;low&quot;</td><td>1</td><td>&quot;Arriba&quot;</td></tr><tr><td>&quot;MAPK13::C1QL1__6:36132629-17:4…</td><td>&quot;MAPK13::C1QL1&quot;</td><td>&quot;6:36132629-17:44965446&quot;</td><td>&quot;+&quot;</td><td>&quot;+&quot;</td><td>&quot;CDS&quot;</td><td>&quot;intron&quot;</td><td>&quot;translocation/5&#x27;-5&#x27;&quot;</td><td>&quot;low&quot;</td><td>1</td><td>&quot;Arriba&quot;</td></tr><tr><td>&quot;STX16::NPEPL1__20:58673711-20:…</td><td>&quot;STX16::NPEPL1&quot;</td><td>&quot;20:58673711-20:58691724&quot;</td><td>&quot;+&quot;</td><td>&quot;+&quot;</td><td>&quot;CDS/splice-site&quot;</td><td>&quot;5&#x27;UTR/splice-site&quot;</td><td>&quot;deletion/read-through&quot;</td><td>&quot;low&quot;</td><td>1</td><td>&quot;Arriba&quot;</td></tr><tr><td>&quot;MAPK13::NMT1__6:36132629-17:44…</td><td>&quot;MAPK13::NMT1&quot;</td><td>&quot;6:36132629-17:44965446&quot;</td><td>&quot;+&quot;</td><td>&quot;+&quot;</td><td>&quot;CDS&quot;</td><td>&quot;intron&quot;</td><td>&quot;translocation&quot;</td><td>&quot;low&quot;</td><td>1</td><td>&quot;Arriba&quot;</td></tr><tr><td>&hellip;</td><td>&hellip;</td><td>&hellip;</td><td>&hellip;</td><td>&hellip;</td><td>&hellip;</td><td>&hellip;</td><td>&hellip;</td><td>&hellip;</td><td>&hellip;</td><td>&hellip;</td></tr><tr><td>&quot;LINC01145::AC245100.2__1:14520…</td><td>&quot;LINC01145::AC245100.2&quot;</td><td>&quot;1:145201150-1:148436753&quot;</td><td>&quot;-&quot;</td><td>&quot;-&quot;</td><td>&quot;exon&quot;</td><td>&quot;exon&quot;</td><td>&quot;duplication/5&#x27;-5&#x27;&quot;</td><td>&quot;low&quot;</td><td>992</td><td>&quot;Arriba&quot;</td></tr><tr><td>&quot;NET1::RNF169__10:5412820-11:74…</td><td>&quot;NET1::RNF169&quot;</td><td>&quot;10:5412820-11:74834676&quot;</td><td>&quot;+&quot;</td><td>&quot;+&quot;</td><td>&quot;CDS/splice-site&quot;</td><td>&quot;CDS/splice-site&quot;</td><td>&quot;translocation&quot;</td><td>&quot;low&quot;</td><td>992</td><td>&quot;Arriba&quot;</td></tr><tr><td>&quot;MAN2C1::SIN3A__15:75366522-15:…</td><td>&quot;MAN2C1::SIN3A&quot;</td><td>&quot;15:75366522-15:75375872&quot;</td><td>&quot;-&quot;</td><td>&quot;-&quot;</td><td>&quot;CDS/splice-site&quot;</td><td>&quot;CDS/splice-site&quot;</td><td>&quot;duplication&quot;</td><td>&quot;low&quot;</td><td>992</td><td>&quot;Arriba&quot;</td></tr><tr><td>&quot;LINC02224::MRPS30-DT__5:446584…</td><td>&quot;LINC02224::MRPS30-DT&quot;</td><td>&quot;5:44658462-5:44777328&quot;</td><td>&quot;-&quot;</td><td>&quot;-&quot;</td><td>&quot;exon/splice-site&quot;</td><td>&quot;exon/splice-site&quot;</td><td>&quot;duplication&quot;</td><td>&quot;low&quot;</td><td>992</td><td>&quot;Arriba&quot;</td></tr><tr><td>&quot;PRCP::TASOR2__11:82900235-10:5…</td><td>&quot;PRCP::TASOR2&quot;</td><td>&quot;11:82900235-10:5739618&quot;</td><td>&quot;-&quot;</td><td>&quot;+&quot;</td><td>&quot;out-of-frame&quot;</td><td>&quot;.&quot;</td><td>&quot;.&quot;</td><td>&quot;.&quot;</td><td>992</td><td>&quot;FusionCatcher&quot;</td></tr></tbody></table></div>"
      ],
      "text/plain": [
       "shape: (80_829, 11)\n",
       "┌────────────┬────────────┬───────────┬─────────┬───┬───────────┬───────────┬──────────┬───────────┐\n",
       "│ fusionTran ┆ fusionGene ┆ breakpoin ┆ strand1 ┆ … ┆ type      ┆ confidenc ┆ sampleID ┆ toolID    │\n",
       "│ scriptID   ┆ ID         ┆ tPair     ┆ ---     ┆   ┆ ---       ┆ e         ┆ ---      ┆ ---       │\n",
       "│ ---        ┆ ---        ┆ ---       ┆ cat     ┆   ┆ cat       ┆ ---       ┆ i64      ┆ cat       │\n",
       "│ cat        ┆ cat        ┆ cat       ┆         ┆   ┆           ┆ cat       ┆          ┆           │\n",
       "╞════════════╪════════════╪═══════════╪═════════╪═══╪═══════════╪═══════════╪══════════╪═══════════╡\n",
       "│ TRMT11::SM ┆ TRMT11::SM ┆ 6:1259866 ┆ +       ┆ … ┆ transloca ┆ high      ┆ 1        ┆ Arriba    │\n",
       "│ G6__6:1259 ┆ G6         ┆ 22-17:224 ┆         ┆   ┆ tion      ┆           ┆          ┆           │\n",
       "│ 86622-17:2 ┆            ┆ 4719      ┆         ┆   ┆           ┆           ┆          ┆           │\n",
       "│ …          ┆            ┆           ┆         ┆   ┆           ┆           ┆          ┆           │\n",
       "│ STAG3::MEF ┆ STAG3::MEF ┆ 7:1001895 ┆ +       ┆ … ┆ transloca ┆ low       ┆ 1        ┆ Arriba    │\n",
       "│ 2C-AS1__7: ┆ 2C-AS1     ┆ 70-5:8891 ┆         ┆   ┆ tion/5'-5 ┆           ┆          ┆           │\n",
       "│ 100189570- ┆            ┆ 9251      ┆         ┆   ┆ '         ┆           ┆          ┆           │\n",
       "│ …          ┆            ┆           ┆         ┆   ┆           ┆           ┆          ┆           │\n",
       "│ MAPK13::C1 ┆ MAPK13::C1 ┆ 6:3613262 ┆ +       ┆ … ┆ transloca ┆ low       ┆ 1        ┆ Arriba    │\n",
       "│ QL1__6:361 ┆ QL1        ┆ 9-17:4496 ┆         ┆   ┆ tion/5'-5 ┆           ┆          ┆           │\n",
       "│ 32629-17:4 ┆            ┆ 5446      ┆         ┆   ┆ '         ┆           ┆          ┆           │\n",
       "│ …          ┆            ┆           ┆         ┆   ┆           ┆           ┆          ┆           │\n",
       "│ STX16::NPE ┆ STX16::NPE ┆ 20:586737 ┆ +       ┆ … ┆ deletion/ ┆ low       ┆ 1        ┆ Arriba    │\n",
       "│ PL1__20:58 ┆ PL1        ┆ 11-20:586 ┆         ┆   ┆ read-thro ┆           ┆          ┆           │\n",
       "│ 673711-20: ┆            ┆ 91724     ┆         ┆   ┆ ugh       ┆           ┆          ┆           │\n",
       "│ …          ┆            ┆           ┆         ┆   ┆           ┆           ┆          ┆           │\n",
       "│ MAPK13::NM ┆ MAPK13::NM ┆ 6:3613262 ┆ +       ┆ … ┆ transloca ┆ low       ┆ 1        ┆ Arriba    │\n",
       "│ T1__6:3613 ┆ T1         ┆ 9-17:4496 ┆         ┆   ┆ tion      ┆           ┆          ┆           │\n",
       "│ 2629-17:44 ┆            ┆ 5446      ┆         ┆   ┆           ┆           ┆          ┆           │\n",
       "│ …          ┆            ┆           ┆         ┆   ┆           ┆           ┆          ┆           │\n",
       "│ …          ┆ …          ┆ …         ┆ …       ┆ … ┆ …         ┆ …         ┆ …        ┆ …         │\n",
       "│ LINC01145: ┆ LINC01145: ┆ 1:1452011 ┆ -       ┆ … ┆ duplicati ┆ low       ┆ 992      ┆ Arriba    │\n",
       "│ :AC245100. ┆ :AC245100. ┆ 50-1:1484 ┆         ┆   ┆ on/5'-5'  ┆           ┆          ┆           │\n",
       "│ 2__1:14520 ┆ 2          ┆ 36753     ┆         ┆   ┆           ┆           ┆          ┆           │\n",
       "│ …          ┆            ┆           ┆         ┆   ┆           ┆           ┆          ┆           │\n",
       "│ NET1::RNF1 ┆ NET1::RNF1 ┆ 10:541282 ┆ +       ┆ … ┆ transloca ┆ low       ┆ 992      ┆ Arriba    │\n",
       "│ 69__10:541 ┆ 69         ┆ 0-11:7483 ┆         ┆   ┆ tion      ┆           ┆          ┆           │\n",
       "│ 2820-11:74 ┆            ┆ 4676      ┆         ┆   ┆           ┆           ┆          ┆           │\n",
       "│ …          ┆            ┆           ┆         ┆   ┆           ┆           ┆          ┆           │\n",
       "│ MAN2C1::SI ┆ MAN2C1::SI ┆ 15:753665 ┆ -       ┆ … ┆ duplicati ┆ low       ┆ 992      ┆ Arriba    │\n",
       "│ N3A__15:75 ┆ N3A        ┆ 22-15:753 ┆         ┆   ┆ on        ┆           ┆          ┆           │\n",
       "│ 366522-15: ┆            ┆ 75872     ┆         ┆   ┆           ┆           ┆          ┆           │\n",
       "│ …          ┆            ┆           ┆         ┆   ┆           ┆           ┆          ┆           │\n",
       "│ LINC02224: ┆ LINC02224: ┆ 5:4465846 ┆ -       ┆ … ┆ duplicati ┆ low       ┆ 992      ┆ Arriba    │\n",
       "│ :MRPS30-DT ┆ :MRPS30-DT ┆ 2-5:44777 ┆         ┆   ┆ on        ┆           ┆          ┆           │\n",
       "│ __5:446584 ┆            ┆ 328       ┆         ┆   ┆           ┆           ┆          ┆           │\n",
       "│ …          ┆            ┆           ┆         ┆   ┆           ┆           ┆          ┆           │\n",
       "│ PRCP::TASO ┆ PRCP::TASO ┆ 11:829002 ┆ -       ┆ … ┆ .         ┆ .         ┆ 992      ┆ FusionCat │\n",
       "│ R2__11:829 ┆ R2         ┆ 35-10:573 ┆         ┆   ┆           ┆           ┆          ┆ cher      │\n",
       "│ 00235-10:5 ┆            ┆ 9618      ┆         ┆   ┆           ┆           ┆          ┆           │\n",
       "│ …          ┆            ┆           ┆         ┆   ┆           ┆           ┆          ┆           │\n",
       "└────────────┴────────────┴───────────┴─────────┴───┴───────────┴───────────┴──────────┴───────────┘"
      ]
     },
     "execution_count": 13,
     "metadata": {},
     "output_type": "execute_result"
    }
   ],
   "source": [
    "joined_df.sort(\"sampleID\")"
   ]
  },
  {
   "cell_type": "code",
   "execution_count": 16,
   "metadata": {},
   "outputs": [
    {
     "data": {
      "text/html": [
       "<div><style>\n",
       ".dataframe > thead > tr,\n",
       ".dataframe > tbody > tr {\n",
       "  text-align: right;\n",
       "  white-space: pre-wrap;\n",
       "}\n",
       "</style>\n",
       "<small>shape: (46_254, 2)</small><table border=\"1\" class=\"dataframe\"><thead><tr><th>fusionTranscriptID</th><th>count</th></tr><tr><td>cat</td><td>u32</td></tr></thead><tbody><tr><td>&quot;CTBS::GNG5__1:84563257-1:84501…</td><td>661</td></tr><tr><td>&quot;AZGP1::GJC3__7:99971746-7:9992…</td><td>608</td></tr><tr><td>&quot;NPEPPS::TBC1D3__17:47592545-17…</td><td>608</td></tr><tr><td>&quot;TMED7::TICAM2__5:115616318-5:1…</td><td>428</td></tr><tr><td>&quot;SIDT2::TAGLN__11:117195915-11:…</td><td>412</td></tr><tr><td>&hellip;</td><td>&hellip;</td></tr><tr><td>&quot;AL021546.1::DYNLL1__12:1204571…</td><td>1</td></tr><tr><td>&quot;CNOT1::C16ORF78__16:58629728-1…</td><td>1</td></tr><tr><td>&quot;RPS19::AC067930.9__19:41872769…</td><td>1</td></tr><tr><td>&quot;GTPBP3::AC097717.1__19:1733959…</td><td>1</td></tr><tr><td>&quot;COX4I1::AC026954.2__16:8580127…</td><td>1</td></tr></tbody></table></div>"
      ],
      "text/plain": [
       "shape: (46_254, 2)\n",
       "┌─────────────────────────────────┬───────┐\n",
       "│ fusionTranscriptID              ┆ count │\n",
       "│ ---                             ┆ ---   │\n",
       "│ cat                             ┆ u32   │\n",
       "╞═════════════════════════════════╪═══════╡\n",
       "│ CTBS::GNG5__1:84563257-1:84501… ┆ 661   │\n",
       "│ AZGP1::GJC3__7:99971746-7:9992… ┆ 608   │\n",
       "│ NPEPPS::TBC1D3__17:47592545-17… ┆ 608   │\n",
       "│ TMED7::TICAM2__5:115616318-5:1… ┆ 428   │\n",
       "│ SIDT2::TAGLN__11:117195915-11:… ┆ 412   │\n",
       "│ …                               ┆ …     │\n",
       "│ AL021546.1::DYNLL1__12:1204571… ┆ 1     │\n",
       "│ CNOT1::C16ORF78__16:58629728-1… ┆ 1     │\n",
       "│ RPS19::AC067930.9__19:41872769… ┆ 1     │\n",
       "│ GTPBP3::AC097717.1__19:1733959… ┆ 1     │\n",
       "│ COX4I1::AC026954.2__16:8580127… ┆ 1     │\n",
       "└─────────────────────────────────┴───────┘"
      ]
     },
     "execution_count": 16,
     "metadata": {},
     "output_type": "execute_result"
    }
   ],
   "source": [
    "all_ft_counts = joined_df.select(pl.col(\"fusionTranscriptID\").value_counts(sort=True))\n",
    "all_ft_counts.unnest(\"fusionTranscriptID\")"
   ]
  },
  {
   "cell_type": "code",
   "execution_count": 18,
   "metadata": {},
   "outputs": [
    {
     "data": {
      "text/html": [
       "<div><style>\n",
       ".dataframe > thead > tr,\n",
       ".dataframe > tbody > tr {\n",
       "  text-align: right;\n",
       "  white-space: pre-wrap;\n",
       "}\n",
       "</style>\n",
       "<small>shape: (36_460, 2)</small><table border=\"1\" class=\"dataframe\"><thead><tr><th>fusionGeneID</th><th>count</th></tr><tr><td>cat</td><td>u32</td></tr></thead><tbody><tr><td>&quot;TVP23C::CDRT4&quot;</td><td>1448</td></tr><tr><td>&quot;RBM14::RBM4&quot;</td><td>835</td></tr><tr><td>&quot;AZGP1::GJC3&quot;</td><td>830</td></tr><tr><td>&quot;SMG1::NPIPB5&quot;</td><td>765</td></tr><tr><td>&quot;CTBS::GNG5&quot;</td><td>663</td></tr><tr><td>&hellip;</td><td>&hellip;</td></tr><tr><td>&quot;AL021546.1::DYNLL1&quot;</td><td>1</td></tr><tr><td>&quot;CNOT1::C16ORF78&quot;</td><td>1</td></tr><tr><td>&quot;RPS19::AC067930.9&quot;</td><td>1</td></tr><tr><td>&quot;GTPBP3::AC097717.1&quot;</td><td>1</td></tr><tr><td>&quot;COX4I1::AC026954.2&quot;</td><td>1</td></tr></tbody></table></div>"
      ],
      "text/plain": [
       "shape: (36_460, 2)\n",
       "┌────────────────────┬───────┐\n",
       "│ fusionGeneID       ┆ count │\n",
       "│ ---                ┆ ---   │\n",
       "│ cat                ┆ u32   │\n",
       "╞════════════════════╪═══════╡\n",
       "│ TVP23C::CDRT4      ┆ 1448  │\n",
       "│ RBM14::RBM4        ┆ 835   │\n",
       "│ AZGP1::GJC3        ┆ 830   │\n",
       "│ SMG1::NPIPB5       ┆ 765   │\n",
       "│ CTBS::GNG5         ┆ 663   │\n",
       "│ …                  ┆ …     │\n",
       "│ AL021546.1::DYNLL1 ┆ 1     │\n",
       "│ CNOT1::C16ORF78    ┆ 1     │\n",
       "│ RPS19::AC067930.9  ┆ 1     │\n",
       "│ GTPBP3::AC097717.1 ┆ 1     │\n",
       "│ COX4I1::AC026954.2 ┆ 1     │\n",
       "└────────────────────┴───────┘"
      ]
     },
     "execution_count": 18,
     "metadata": {},
     "output_type": "execute_result"
    }
   ],
   "source": [
    "genelevel_ft_counts = joined_df.select(pl.col(\"fusionGeneID\").value_counts(sort=True))\n",
    "genelevel_ft_counts.unnest(\"fusionGeneID\")"
   ]
  },
  {
   "cell_type": "code",
   "execution_count": null,
   "metadata": {},
   "outputs": [],
   "source": []
  }
 ],
 "metadata": {
  "kernelspec": {
   "display_name": "datasci",
   "language": "python",
   "name": "python3"
  },
  "language_info": {
   "codemirror_mode": {
    "name": "ipython",
    "version": 3
   },
   "file_extension": ".py",
   "mimetype": "text/x-python",
   "name": "python",
   "nbconvert_exporter": "python",
   "pygments_lexer": "ipython3",
   "version": "3.12.5"
  }
 },
 "nbformat": 4,
 "nbformat_minor": 2
}
